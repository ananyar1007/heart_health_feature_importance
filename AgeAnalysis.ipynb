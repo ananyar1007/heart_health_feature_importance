{
 "cells": [
  {
   "cell_type": "markdown",
   "metadata": {},
   "source": [
    "Here we analyze how the probability of cardio failure progresses with age for women, men, and everyone."
   ]
  },
  {
   "cell_type": "code",
   "execution_count": 4,
   "metadata": {
    "scrolled": false
   },
   "outputs": [
    {
     "name": "stdout",
     "output_type": "stream",
     "text": [
      "         bmi        age  gender  ap_hi  ap_lo  cholesterol  gluc  smoke  alco  \\\n",
      "0  21.967120  50.391781       2    110     80            1     1      0     0   \n",
      "1  34.927679  55.419178       1    140     90            3     1      0     0   \n",
      "2  23.507805  51.663014       1    130     70            3     1      0     0   \n",
      "3  28.710479  48.282192       2    150    100            1     1      0     0   \n",
      "4  23.011177  47.873973       1    100     60            1     1      0     0   \n",
      "\n",
      "   active  cardio  \n",
      "0       1       0  \n",
      "1       1       1  \n",
      "2       0       1  \n",
      "3       1       1  \n",
      "4       0       0  \n"
     ]
    }
   ],
   "source": [
    "# Lets import the necessary packages\n",
    "%matplotlib inline\n",
    "import numpy as np\n",
    "import pandas as pd\n",
    "import matplotlib.pyplot as plt\n",
    "from sklearn.linear_model import LogisticRegression\n",
    "from sklearn.inspection import permutation_importance\n",
    "from sklearn.tree import DecisionTreeClassifier #now decision tree time\n",
    "import seaborn as sns\n",
    "from sklearn.ensemble import RandomForestClassifier\n",
    "from sklearn.model_selection import train_test_split\n",
    "\n",
    "# First verify that we can read the input data\n",
    "# While running use the file path for cardio_train_not_normalized.csv \n",
    "input_filename = \"C:\\\\Users\\\\anish\\\\OneDrive\\\\Documents\\\\Anisha\\\\science_fair\\\\cardio_train_not_normalized.csv \" \n",
    "\n",
    "new_data = pd.read_csv(input_filename)\n",
    "new_data['age'] = new_data['age']/365\n",
    "print(new_data.head())\n"
   ]
  },
  {
   "cell_type": "code",
   "execution_count": 5,
   "metadata": {},
   "outputs": [],
   "source": [
    "# Lets define the functions that we will need first\n",
    "def plot_features(X, feature_list):\n",
    "    \"\"\"\n",
    "    Plotting features\n",
    "    \"\"\"\n",
    "    for feat in feature_list:\n",
    "        plt.hist(X[feat], 32)\n",
    "        plt.xlabel(feat)\n",
    "        plt.show()\n",
    "        \n",
    "def get_cardio_probability(df, feat_name, bin_centers):\n",
    "    \"\"\"\n",
    "    calculating cardio probability\n",
    "    \n",
    "    \"\"\"\n",
    "    gap = bin_centers[1] - bin_centers[0]\n",
    "    list_prob = []\n",
    "    for bin in bin_centers:\n",
    "        truncated_data = filter_feature(df, feat_name, bin - gap/2, bin + gap/2) #calling filter_feature and getting a desginated chunk\n",
    "        number_heart_failure = sum(truncated_data['cardio']) #calculating number of people who have heart failure\n",
    "        total_cases = len(truncated_data[\"cardio\"]) #number of total cases\n",
    "        list_prob.append(number_heart_failure/total_cases) #calculating the probability\n",
    "    return list_prob    \n",
    "\n",
    "def filter_feature(dataframe, column_name,  threshold_low, threshold_hi):\n",
    "    \"\"\"\n",
    "    removes outliers\n",
    "    \"\"\"\n",
    "    x = dataframe[column_name]\n",
    "    cond1 = x>threshold_low\n",
    "    cond2 = x<threshold_hi\n",
    "    cond3 = cond1 & cond2\n",
    "    number_removed = len(cond3) - sum(cond3)\n",
    "    truncated_data = dataframe[cond3]\n",
    "    return truncated_data\n",
    "    "
   ]
  },
  {
   "cell_type": "code",
   "execution_count": 7,
   "metadata": {
    "scrolled": true
   },
   "outputs": [
    {
     "name": "stdout",
     "output_type": "stream",
     "text": [
      "[0.2556144728633812, 0.3832274459974587, 0.43829064132418655, 0.5134681181959565, 0.6024012930039252, 0.7115496227510156]\n"
     ]
    },
    {
     "data": {
      "image/png": "[encoded data removed]",
      "text/plain": [
       "<Figure size 432x288 with 1 Axes>"
      ]
     },
     "metadata": {
      "needs_background": "light"
     },
     "output_type": "display_data"
    }
   ],
   "source": [
    "#calculating cardio probability for the entire dataset\n",
    "ages = [40, 45, 50, 55, 60, 65]\n",
    "prob_all = get_cardio_probability(new_data, \"age\", ages) #calling get_cardio_probability with the ages above\n",
    "norm_factor = prob_all[0]\n",
    "print(prob_all)\n",
    "\n",
    "#calcuating cardio probability for men and women seperately\n",
    "women_split = filter_feature(new_data, \"gender\", 0.5, 1.5) #splitting a seperate women dataset\n",
    "men_split = filter_feature(new_data, \"gender\", 1.5, 2.5) #splitting a seperate men dataset\n",
    "\n",
    "prob_women = get_cardio_probability(women_split, \"age\", ages) \n",
    "prob_men = get_cardio_probability(men_split, \"age\", ages)\n",
    "\n",
    "#plotting the normalized probabilities for men, women, and everyone nicely onto one graph\n",
    "plt.plot(ages, np.array(prob_all)/norm_factor, 'o-y')\n",
    "plt.plot(ages, np.array(prob_women)/norm_factor, 'o-g')\n",
    "plt.plot(ages, np.array(prob_men)/norm_factor, 'o-r')\n",
    "plt.grid()\n",
    "plt.title(\"Risk of Heart Failure Vs. Age\", fontsize = 18, fontweight = 'bold')\n",
    "plt.xlabel('Age')\n",
    "plt.ylabel('Risk Factor, age 40 = 1')\n",
    "plt.legend([\"All\", \"Female\", \"Male\"])\n",
    "#plt.savefig(\"Risk of Heart Failure Vs. Age\" + '.png', bbox_inches='tight')\n",
    "plt.show()"
   ]
  },
  {
   "cell_type": "code",
   "execution_count": null,
   "metadata": {},
   "outputs": [],
   "source": []
  }
 ],
 "metadata": {
  "kernelspec": {
   "display_name": "Python 3",
   "language": "python",
   "name": "python3"
  },
  "language_info": {
   "codemirror_mode": {
    "name": "ipython",
    "version": 3
   },
   "file_extension": ".py",
   "mimetype": "text/x-python",
   "name": "python",
   "nbconvert_exporter": "python",
   "pygments_lexer": "ipython3",
   "version": "3.8.3"
  }
 },
 "nbformat": 4,
 "nbformat_minor": 4
}
