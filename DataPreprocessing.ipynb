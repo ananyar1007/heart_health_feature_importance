{
 "cells": [
  {
   "cell_type": "markdown",
   "metadata": {},
   "source": [
    "This notebook filters the data, normalizes the features, and additionally plots the data correlation."
   ]
  },
  {
   "cell_type": "code",
   "execution_count": 17,
   "metadata": {
    "scrolled": true
   },
   "outputs": [],
   "source": [
    "%matplotlib inline\n",
    "\n",
    "import pandas as pd\n",
    "import matplotlib.pyplot as plt\n",
    "import numpy as np\n",
    "\n",
    "# Read in the input data first\n",
    "input_file = \"cardio_train.csv\"\n",
    "cardio_train = pd.read_csv(input_file)\n"
   ]
  },
  {
   "cell_type": "code",
   "execution_count": 18,
   "metadata": {
    "scrolled": true
   },
   "outputs": [
    {
     "name": "stdout",
     "output_type": "stream",
     "text": [
      "Number of True cases:  34979 (49.97%)\n",
      "Number of False cases: 35021 (50.03%)\n",
      "Number of Female cases:  45530 (65.04%)\n",
      "Number of Male cases: 24470 (34.96%)\n"
     ]
    }
   ],
   "source": [
    "#doing some initial checks\n",
    "\n",
    "\n",
    "cardio_map = {True:1, False:0}\n",
    "cardio_train['cardio']=cardio_train['cardio'].map(cardio_map)\n",
    "num_obs = len(cardio_train)\n",
    "num_true = len(cardio_train.loc[cardio_train['cardio'] == 1])  #finding how many people have cardio failure\n",
    "num_false = len(cardio_train.loc[cardio_train['cardio'] == 0]) #finding how many people don't have cardio failure\n",
    "print(\"Number of True cases:  {0} ({1:2.2f}%)\".format(num_true, (num_true/num_obs) * 100))\n",
    "print(\"Number of False cases: {0} ({1:2.2f}%)\".format(num_false, (num_false/num_obs) * 100))\n",
    "\n",
    "num_all = len(cardio_train)\n",
    "num_women = len(cardio_train.loc[cardio_train['gender'] == 1])\n",
    "num_men = len(cardio_train.loc[cardio_train['gender'] == 2])\n",
    "print(\"Number of Female cases:  {0} ({1:2.2f}%)\".format(num_women, (num_women/num_all) * 100))\n",
    "print(\"Number of Male cases: {0} ({1:2.2f}%)\".format(num_men, (num_men/num_all) * 100))"
   ]
  },
  {
   "cell_type": "code",
   "execution_count": 19,
   "metadata": {},
   "outputs": [],
   "source": [
    "\n",
    "def remove_outliers(dataframe, column_name,  threshold_low, threshold_hi):\n",
    "    \"\"\"\n",
    "    Removes outliers\n",
    "\n",
    "    \"\"\"\n",
    "    low_valid = dataframe[column_name] > threshold_low   #creating a desginated chunk to remove\n",
    "    hi_valid = dataframe[column_name] < threshold_hi\n",
    "    column_valid = [a and b for a,b in zip(low_valid,hi_valid)]\n",
    "    truncated_data = dataframe[column_valid]\n",
    "    removeAmount = list(dataframe.shape)[0] - list(truncated_data.shape)[0]\n",
    "    print('Number removed:',removeAmount)\n",
    "    return truncated_data\n",
    "\n",
    "def plot_features(x,feature_names):\n",
    "    \"\"\"\n",
    "    This plots the features in a histogram.\n",
    "    \"\"\"\n",
    "    for feat in feature_names:\n",
    "        plt.hist(x[feat],32)\n",
    "        plt.xlabel(feat)\n",
    "        if(feat == \"bmi\"):\n",
    "            plt.savefig('BMI_graph_updated' + '.png', bbox_inches='tight')\n",
    "        plt.show()\n",
    "        \n",
    "        \n",
    "def normalize(X):\n",
    "    \"\"\"\n",
    "    Normalizes features\n",
    "    \"\"\"\n",
    "    meanX= np.mean(X) #calculating mean\n",
    "    X =X-meanX  \n",
    "    stdX= np.std(X) #calculating standard deviation\n",
    "    X=X/stdX\n",
    "    return X\n",
    "\n",
    "\n",
    "def plot_corr(df,size=11): \n",
    "    \"\"\"\n",
    "    Function plots a graphical correlation matrix for each pair (of features) in the dataframe\n",
    "\n",
    "    Displays:\n",
    "        matrix of correlation between columns.  Yellow means that they are highly correlated.\n",
    "                                           \n",
    "    \"\"\"\n",
    "    \n",
    "    corr = df.corr()\n",
    "    corr# calling the correlation function (on dataframe)\n",
    "    fig, ax = plt.subplots(figsize=(size,size))\n",
    "    c = ax.matshow(np.abs(corr)) # color code based on correlation\n",
    "    plt.colorbar(c)\n",
    "    plt.xticks(range(len(corr.columns)),corr.columns) # draw x tickmarks\n",
    "    plt.yticks(range(len(corr.columns)),corr.columns) # draw y tickmarks\n",
    "    plt.show()\n",
    "   "
   ]
  },
  {
   "cell_type": "code",
   "execution_count": 20,
   "metadata": {},
   "outputs": [],
   "source": [
    "\n",
    "def print_corr_info(x):\n",
    "     \"\"\"\n",
    "     creates a bar graph to plot the correlations\n",
    "\n",
    "     \"\"\"\n",
    "     feat_names = x.index\n",
    "     unsorted_corr = np.abs(x)\n",
    "     print(\"Unsorted Abs\", unsorted_corr)\n",
    "     sorted_order = np.argsort(unsorted_corr)[::-1]\n",
    "     print('sorted order', sorted_order)\n",
    "     sorted_corr = unsorted_corr[sorted_order[1:]] \n",
    "     sorted_feat_names = feat_names[sorted_order[1:]]\n",
    "     for id in range(len(sorted_corr)):\n",
    "            print('{0:<20} {1:.4f}'.format(sorted_feat_names[id], sorted_corr[id]))\n",
    "\n",
    "     plt.bar(sorted_feat_names, sorted_corr, width = 0.3, color=(0.75, 0.6, 0, 1))\n",
    "     ax = plt.gca()\n",
    "     plt.grid()\n",
    "     plt.title('Correlation Analysis')\n",
    "     plt.xlabel('Feature')\n",
    "     plt.ylabel('Correlation')\n",
    "     plt.setp(ax.get_xticklabels(), fontsize = 10, rotation = 45)\n",
    "     plt.show() \n"
   ]
  },
  {
   "cell_type": "code",
   "execution_count": 21,
   "metadata": {},
   "outputs": [
    {
     "name": "stdout",
     "output_type": "stream",
     "text": [
      "Number removed: 250\n",
      "Number removed: 47\n",
      "Number removed: 960\n"
     ]
    }
   ],
   "source": [
    "#adding BMI to the dataframe (using the formula that BMI is weight/height^2)\n",
    "height = list(cardio_train['height'])\n",
    "weight = list(cardio_train['weight'])\n",
    "bmi = []\n",
    "\n",
    "for i in range(len(height)):\n",
    "    height[i] = height[i]/100\n",
    "    bmi.append(weight[i]/((height[i])**2))\n",
    "cardio_train.insert(0,'bmi',bmi)\n",
    "cardio_train.drop(\"weight\", inplace=True, axis=1)\n",
    "cardio_train.drop(\"height\", inplace=True, axis=1)\n",
    "cardio_train.drop(\"id\", inplace=True, axis=1)\n",
    "\n",
    "feature_cols = list(cardio_train.columns[:-1])\n",
    "\n",
    "\n",
    "bmi_truncated_data = remove_outliers(cardio_train,'bmi',10,50)\n",
    "\n",
    "ap_hi_truncated_data = remove_outliers(bmi_truncated_data, \"ap_hi\", 0, 250)\n",
    "final_data = remove_outliers(ap_hi_truncated_data, \"ap_lo\", 0, 250)\n",
    "\n"
   ]
  },
  {
   "cell_type": "code",
   "execution_count": 23,
   "metadata": {},
   "outputs": [
    {
     "name": "stdout",
     "output_type": "stream",
     "text": [
      "Removed 275 samples\n"
     ]
    }
   ],
   "source": [
    "valid = final_data['ap_hi'] > final_data['ap_lo']\n",
    "truncated_valid_bp_data = final_data[valid]\n",
    "print('Removed {numsamp:d} samples'.format(numsamp=list(final_data.shape)[0] - list(truncated_valid_bp_data.shape)[0]))\n"
   ]
  },
  {
   "cell_type": "code",
   "execution_count": null,
   "metadata": {
    "scrolled": false
   },
   "outputs": [],
   "source": [
    "#plotting correlation\n",
    "plot_corr(final_data)\n",
    "corr = final_data.corr()\n",
    "x = corr['cardio']\n",
    "print_corr_info(x)\n",
    "\n",
    "#plt.savefig('Correlation Graph' + '.png', bbox_inches='tight')\n",
    "\n",
    "plt.show()"
   ]
  },
  {
   "cell_type": "code",
   "execution_count": null,
   "metadata": {},
   "outputs": [],
   "source": [
    "print(feature_cols)\n",
    "print(final_data.head())\n",
    "\n",
    "for feature in feature_cols:\n",
    "    final_data[feature] = normalize(final_data[feature]) #calling normalizing function \n",
    "    \n",
    "#giving nice names\n",
    "final_data.rename(columns={'ap_hi':'systolic', 'ap_lo':'diastolic', 'gluc': 'glucose', 'alco': 'alcoholic', 'smoke': 'smoking'}, inplace = True)\n",
    "final_data.to_csv(\"cardio_train_filtered.csv\",index=False )\n",
    "\n"
   ]
  },
  {
   "cell_type": "code",
   "execution_count": null,
   "metadata": {},
   "outputs": [],
   "source": []
  }
 ],
 "metadata": {
  "kernelspec": {
   "display_name": "Python 3",
   "language": "python",
   "name": "python3"
  },
  "language_info": {
   "codemirror_mode": {
    "name": "ipython",
    "version": 3
   },
   "file_extension": ".py",
   "mimetype": "text/x-python",
   "name": "python",
   "nbconvert_exporter": "python",
   "pygments_lexer": "ipython3",
   "version": "3.8.3"
  }
 },
 "nbformat": 4,
 "nbformat_minor": 4
}
