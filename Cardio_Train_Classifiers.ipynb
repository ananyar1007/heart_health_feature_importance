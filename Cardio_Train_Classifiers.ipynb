{
 "cells": [
  {
   "cell_type": "code",
   "execution_count": 1,
   "metadata": {},
   "outputs": [],
   "source": [
    "# Render our plots inline\n",
    "%matplotlib inline\n",
    "import numpy as np\n",
    "import pandas as pd\n",
    "import matplotlib.pyplot as plt\n",
    "from sklearn.linear_model import LogisticRegression\n",
    "from sklearn.inspection import permutation_importance\n",

    "from sklearn.tree import DecisionTreeClassifier #now decision tree time\n",
    "import seaborn as sns\n",
    "from sklearn.ensemble import RandomForestClassifier\n",
    "from sklearn.model_selection import train_test_split\n",
    "path_name = \"C:\\\\Users\\\\anish\\\\OneDrive\\\\Documents\\\\Anisha\\\\science_fair\\\\\"\n"
   ]
  },
  {
   "cell_type": "code"
   "execution_count": 27,
   "metadata": {},
   "outputs": [],
   "source": [
    "\n",
    "def print_perm_importance(feature_cols, results):\n",
    "    '''Printing permutation importance information'''\n",
    "    print(feature_cols)\n",
    "    mean = result.importances_mean\n",
    "    order_mean = np.argsort(mean)[::-1]\n",
    "    std = result.importances_std\n",
    "    for id in order_mean:\n",
    "        print('{feat:<30} \\t\\t {order_mean: .4f} \\t\\t {std: .4f}'.format(feat = feature_cols[id], order_mean = mean[id], std = std[id]))"
   ]
  },
  {
   "cell_type": "code",
   "execution_count": 28,
   "metadata": {},
   "outputs": [],
   "source": [
    "\n",
    "def find_best_classifiers(X_train, X_test, y_train, y_test):\n",
    "    '''Finding and returning the best classifier'''\n",
    "    accuracy_list = []\n",
    "    \n",

    "    logreg = LogisticRegression()\n",
    "    logreg.fit(X_train,y_train)\n",
    "    y_pred=logreg.predict(X_test)\n",
    "    accuracy_list.append(metrics.accuracy_score(y_test, y_pred))\n",
    "    \n",
    "    clf = DecisionTreeClassifier()  \n",
    "    clf = clf.fit(X_train, y_train)\n",
    "    y_pred = clf.predict(X_test)\n",
    "    accuracy_list.append(metrics.accuracy_score(y_test, y_pred))\n",
    "    \n",
    "    random_forest = RandomForestClassifier(n_estimators = 16)\n",
    "    clf.fit(X_train, y_train)\n",
    "    y_pred = clf.predict(X_test)\n",
    "\n",
    "    classifiers = [logreg, clf, random_forest]\n",
    "    accuracy_list.append(metrics.accuracy_score(y_test, y_pred))\n",
    "    print(accuracy_list)\n",
    "    \n",
    "    index = accuracy_list.index(max(accuracy_list))\n",
    "    print(index)\n",
    "    return classifiers[index]"
   ]
  },
  {
   "cell_type": "code",
   "execution_count": 29,
   "metadata": {},
   "outputs": [],
   "source": [
    "def plot_confusion_matrix(class_names, cnf_matrix, name):\n",
    "    '''plotting the confusion matrix'''\n",
    "    fig, ax = plt.subplots()\n",
    "    tick_marks = np.arange(len(class_names))\n",
    "    # create heatmap\n",
    "    sns.heatmap(pd.DataFrame(cnf_matrix), annot=True, cmap=\"YlGnBu\" ,fmt='g')\n",
    "    ax.xaxis.set_label_position(\"top\")\n",
    "    plt.tight_layout()\n",
    "    plt.title(name, y=1.1)\n",
    "    plt.ylabel('Actual label')\n",
    "    plt.xlabel('Predicted label')\n",
    "    plt.xticks(tick_marks, class_names)\n",
    "    plt.yticks(tick_marks, class_names)\n",
    "\n",

    "def print_feature_importance_info(mean, feat_names, name_graph, filename, color_tuple):\n",
    "     '''draws the plot for feature importance'''\n",
    "     unsorted_feature_importances = np.abs(mean)\n",
    "     print(\"Unsorted Abs\", unsorted_feature_importances)\n",
    "     sorted_order = np.argsort(unsorted_feature_importances)[::-1]\n",
    "     print('sorted order', sorted_order)\n",
    "     print(\"feature names\", feat_names)\n",
    "     print(\"sorted order\", sorted_order)\n",
    "    \n",
    "     sorted_feat_importances = unsorted_feature_importances[sorted_order]\n",
    "     sorted_feat_names=[]\n",
    "    \n",
    "     for idx in range(len(sorted_order)):\n",
    "        sorted_feat_names.append(feat_names[sorted_order[idx]])\n",
    "     \n",
    "     for id in range(len(sorted_feat_importances)):\n",
    "            print('{0:<20} {1:.4f}'.format(sorted_feat_names[id], sorted_feat_importances[id]))\n",
    "\n",
    "     plt.bar(sorted_feat_names, sorted_feat_importances, width = 0.4, color=color_tuple)\n",
    "     ax = plt.gca()\n",
    "     plt.grid()\n",
    "     plt.title(name_graph, fontweight= \"bold\", fontsize = 18)\n",
    "     plt.xlabel('Feature')\n",
    "     plt.ylabel('Feature Importance')\n",
    "     plt.setp(ax.get_xticklabels(), fontsize = 10, rotation = 45)\n",
    "     plt.savefig(filename + '.png', bbox_inches='tight')\n",
    "     plt.show() "

   ]
  },
  {
   "cell_type": "code",
   "execution_count": 30,
   "metadata": {},
   "outputs": [
    {
     "name": "stdout",
     "output_type": "stream",
     "text": [
      "['bmi', 'age', 'gender', 'systolic', 'diastolic', 'cholesterol', 'glucose', 'smoking', 'alcoholic', 'active']\n",
      "        bmi       age    gender  systolic  diastolic  cholesterol   glucose  \\\n",
      "0 -1.073503 -0.433617  1.365609 -0.922175  -0.136384    -0.536412 -0.394301   \n",
      "1  1.496232  0.309848 -0.732274  0.775460   0.884973     2.412375 -0.394301   \n",
      "2 -0.768026 -0.245623 -0.732274  0.209582  -1.157741     2.412375 -0.394301   \n",
      "3  0.263526 -0.745588  1.365609  1.341339   1.906330    -0.536412 -0.394301   \n",
      "4 -0.866494 -0.805957 -0.732274 -1.488054  -2.179098    -0.536412 -0.394301   \n",
      "\n",
      "    smoking  alcoholic    active  cardio  \n",
      "0 -0.310563  -0.237961  0.494821       0  \n",
      "1 -0.310563  -0.237961  0.494821       1  \n",
      "2 -0.310563  -0.237961 -2.020932       1  \n",
      "3 -0.310563  -0.237961  0.494821       1  \n",
      "4 -0.310563  -0.237961 -2.020932       0  \n"
     ]
    }
   ],
   "source": [
    "\n",
    "cardio_train = pd.read_csv(path_name + \"cardio_train_filtered.csv\")\n",
    "\n",
    "feature_cols = list(cardio_train.columns)[:-1]\n",
    "\n",
    "print(feature_cols)\n",
    "\n",
    "print(cardio_train.head())\n",
    "\n",
    "X = cardio_train[feature_cols] #features\n",
    "y = cardio_train.cardio #target variable\n",
    "X_train,X_test,y_train,y_test = train_test_split(X,y, test_size = 0.25, random_state= 0)\n",
    "feature_cols = list(cardio_train.columns)[:-1]"
   ]
  },
  {
   "cell_type": "code",
   "execution_count": 31,
   "metadata": {
    "scrolled": true
   },
   "outputs": [],
   "source": [
    "X = cardio_train[feature_cols] #features\n",
    "y = cardio_train.cardio #target variable"
   ]
  },
  {
   "cell_type": "code",
   "execution_count": 7,
   "metadata": {
    "scrolled": true
   },
   "outputs": [
    {

     "name": "stdout",
     "output_type": "stream",
     "text": [
      "            bmi       age    gender  systolic  diastolic  cholesterol  \\\n",
      "1      1.496232  0.309848 -0.732274  0.775460   0.884973     2.412375   \n",
      "2     -0.768026 -0.245623 -0.732274  0.209582  -1.157741     2.412375   \n",
      "4     -0.866494 -0.805957 -0.732274 -1.488054  -2.179098    -0.536412   \n",
      "5      0.397202  0.992944 -0.732274 -0.356297  -0.136384     0.937981   \n",
      "6      2.051804  1.073570 -0.732274  0.209582  -0.136384     2.412375   \n",
      "...         ...       ...       ...       ...        ...          ...   \n",
      "68736 -1.145480 -0.271959 -0.732274  2.473096   0.884973    -0.536412   \n",
      "68737 -0.737565  0.095519 -0.732274  0.209582   0.884973    -0.536412   \n",
      "68738  0.397218  0.652611 -0.732274  1.341339  -0.136384    -0.536412   \n",
      "68741 -0.055938  1.202410 -0.732274  0.492521  -0.136384    -0.536412   \n",
      "68742 -0.489315  0.436257 -0.732274 -0.356297  -0.136384     0.937981   \n",
      "\n",
      "        glucose   smoking  alcoholic    active  cardio  \n",
      "1     -0.394301 -0.310563  -0.237961  0.494821       1  \n",
      "2     -0.394301 -0.310563  -0.237961 -2.020932       1  \n",
      "4     -0.394301 -0.310563  -0.237961 -2.020932       0  \n",
      "5      1.357035 -0.310563  -0.237961 -2.020932       0  \n",
      "6     -0.394301 -0.310563  -0.237961  0.494821       0  \n",
      "...         ...       ...        ...       ...     ...  \n",
      "68736 -0.394301 -0.310563  -0.237961  0.494821       1  \n",
      "68737 -0.394301 -0.310563  -0.237961  0.494821       1  \n",
      "68738 -0.394301 -0.310563  -0.237961  0.494821       1  \n",
      "68741  1.357035 -0.310563  -0.237961 -2.020932       1  \n",
      "68742 -0.394301 -0.310563  -0.237961  0.494821       0  \n",
      "\n",
      "[44748 rows x 11 columns]\n",
      "X_female         bmi       age  systolic  diastolic  cholesterol   glucose   smoking  \\\n",
      "1  1.496232  0.309848  0.775460   0.884973     2.412375 -0.394301 -0.310563   \n",
      "2 -0.768026 -0.245623  0.209582  -1.157741     2.412375 -0.394301 -0.310563   \n",
      "4 -0.866494 -0.805957 -1.488054  -2.179098    -0.536412 -0.394301 -0.310563   \n",
      "5  0.397202  0.992944 -0.356297  -0.136384     0.937981  1.357035 -0.310563   \n",
      "6  2.051804  1.073570  0.209582  -0.136384     2.412375 -0.394301 -0.310563   \n",
      "\n",
      "   alcoholic    active  \n",
      "1  -0.237961  0.494821  \n",
      "2  -0.237961 -2.020932  \n",
      "4  -0.237961 -2.020932  \n",
      "5  -0.237961 -2.020932  \n",
      "6  -0.237961  0.494821  \n",
      "X_female_train             bmi       age  systolic  diastolic  cholesterol   glucose  \\\n",
      "33637  0.415278  0.712575  1.341339   1.906330     0.937981  1.357035   \n",
      "12076 -0.680107  0.969445 -1.488054  -2.179098    -0.536412 -0.394301   \n",
      "53034 -0.394713 -1.307542 -0.356297  -0.136384    -0.536412 -0.394301   \n",
      "29864 -0.913682  0.463808 -0.356297  -0.136384    -0.536412 -0.394301   \n",
      "45355  1.322020  1.551251 -0.922175  -1.157741    -0.536412 -0.394301   \n",
      "\n",
      "        smoking  alcoholic    active  \n",
      "33637 -0.310563  -0.237961 -2.020932  \n",
      "12076 -0.310563   4.202366  0.494821  \n",
      "53034 -0.310563  -0.237961  0.494821  \n",
      "29864 -0.310563  -0.237961  0.494821  \n",
      "45355 -0.310563  -0.237961  0.494821  \n",
      "(44748, 10)\n"
     ]
    },
    {

      "  return super().drop(\n",
      "C:\\ProgramData\\Anaconda3\\lib\\site-packages\\pandas\\core\\frame.py:3990: SettingWithCopyWarning: \n",
      "A value is trying to be set on a copy of a slice from a DataFrame\n",
      "\n",
      "See the caveats in the documentation: https://pandas.pydata.org/pandas-docs/stable/user_guide/indexing.html#returning-a-view-versus-a-copy\n",
     ]
    }
   ],
   "source": [
    "#Setting training and testing sets for female\n",
    "female_data_set = cardio_train[cardio_train[\"gender\"] < 0] #<0 after normalization\n",
    "female_data_set.drop('gender', inplace=True, axis=1)\n",
    "feature_cols_female = list(female_data_set.columns)[:-1]\n",
    "X_female = female_data_set[feature_cols_female] #features\n",
    "y_female = female_data_set.cardio #target variable\n",
    "X_female_train,X_female_test,y_female_train,y_female_test = train_test_split(X_female,y_female, test_size = 0.25, random_state= 0)\n",
    "\n",
    "#Setting training and testing sets for male\n",
    "male_data_set = cardio_train[cardio_train[\"gender\"] > 0] #>0 after normalization\n",
    "male_data_set.drop('gender', inplace=True, axis = 1)\n",
    "feature_cols_male = list(male_data_set.columns)[:-1]\n",
    "X_male = male_data_set[feature_cols_male] #features\n",
    "y_male = male_data_set.cardio #target variable\n",
    "X_male_train,X_male_test,y_male_train,y_male_test = train_test_split(X_male,y_male, test_size = 0.25, random_state= 0)\n",
    "\n"

   ]
  },
  {
   "cell_type": "code",
   "execution_count": 33,
   "metadata": {},
   "outputs": [
    {
     "name": "stdout",
     "output_type": "stream",
     "text": [
      "[0.7301873618061213, 0.6379029442569534, 0.6363318980565577]\n",
      "0\n",
      "LogisticRegression()\n",
      "['bmi', 'age', 'gender', 'systolic', 'diastolic', 'cholesterol', 'glucose', 'smoking', 'alcoholic', 'active']\n",
      "systolic                       \t\t  0.1159 \t\t  0.0013\n",
      "cholesterol                    \t\t  0.0260 \t\t  0.0008\n",
      "age                            \t\t  0.0171 \t\t  0.0009\n",
      "diastolic                      \t\t  0.0090 \t\t  0.0006\n",
      "bmi                            \t\t  0.0051 \t\t  0.0008\n",
      "active                         \t\t  0.0022 \t\t  0.0005\n",
      "glucose                        \t\t  0.0008 \t\t  0.0004\n",
      "alcoholic                      \t\t  0.0006 \t\t  0.0003\n",
      "smoking                        \t\t  0.0001 \t\t  0.0003\n",
      "gender                         \t\t -0.0004 \t\t  0.0002\n"
     ]
    },
    {
     "data": {
      "image/png": "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\n",
      "text/plain": [
       "<Figure size 432x288 with 2 Axes>"
      ]
     },
     "metadata": {
      "needs_background": "light"
     },
     "output_type": "display_data"
    }
   ],
   "source": [
    "\n",
    "best_classifier = find_best_classifiers(X_train, X_test, y_train, y_test)\n",
    "print(best_classifier)\n",
    "result = permutation_importance(best_classifier, X_train, y_train, n_repeats = 30, random_state = 0)\n",
    "print_perm_importance(feature_cols,result)\n",
    "\n",
    "y_pred = best_classifier.predict(X_test)\n",
    "cnf_matrix = metrics.confusion_matrix(y_test, y_pred)\n",
    "plot_confusion_matrix([ \"heart_disease\" , \"no_disease\"], cnf_matrix, \"Whole data set\")\n",
    "\n",
    "\n"
   ]
  },
  {
   "cell_type": "code",
   "execution_count": 34,
   "metadata": {},
   "outputs": [
    {
     "name": "stdout",
     "output_type": "stream",
     "text": [
      "[0.7289711272012157, 0.6369893626530795, 0.6340395101457048]\n",

      "0\n",
      "X_female             bmi       age  systolic  diastolic  cholesterol   glucose  \\\n",
      "33637  0.415278  0.712575  1.341339   1.906330     0.937981  1.357035   \n",
      "12076 -0.680107  0.969445 -1.488054  -2.179098    -0.536412 -0.394301   \n",
      "53034 -0.394713 -1.307542 -0.356297  -0.136384    -0.536412 -0.394301   \n",
      "29864 -0.913682  0.463808 -0.356297  -0.136384    -0.536412 -0.394301   \n",
      "45355  1.322020  1.551251 -0.922175  -1.157741    -0.536412 -0.394301   \n",
      "\n",
      "        smoking  alcoholic    active  \n",
      "33637 -0.310563  -0.237961 -2.020932  \n",
      "12076 -0.310563   4.202366  0.494821  \n",
      "53034 -0.310563  -0.237961  0.494821  \n",
      "29864 -0.310563  -0.237961  0.494821  \n",
      "45355 -0.310563  -0.237961  0.494821  \n",
      "['bmi', 'age', 'gender', 'systolic', 'diastolic', 'cholesterol', 'glucose', 'smoking', 'alcoholic', 'active']\n",
      "systolic                       \t\t  0.1159 \t\t  0.0013\n",
      "cholesterol                    \t\t  0.0260 \t\t  0.0008\n",
      "age                            \t\t  0.0171 \t\t  0.0009\n",
      "diastolic                      \t\t  0.0090 \t\t  0.0006\n",
      "bmi                            \t\t  0.0051 \t\t  0.0008\n",
      "active                         \t\t  0.0022 \t\t  0.0005\n",
      "glucose                        \t\t  0.0008 \t\t  0.0004\n",
      "alcoholic                      \t\t  0.0006 \t\t  0.0003\n",
      "smoking                        \t\t  0.0001 \t\t  0.0003\n",
      "gender                         \t\t -0.0004 \t\t  0.0002\n"
     ]
    },
    {
     "data": {
      "image/png": "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\n",
      "text/plain": [
       "<Figure size 432x288 with 2 Axes>"
      ]
     },
     "metadata": {
      "needs_background": "light"
     },
     "output_type": "display_data"
    }
   ],
   "source": [
    "#running classifiers for female\n",
    "female_classifier = find_best_classifiers(X_female_train, X_female_test, y_female_train, y_female_test)\n",
    "result_female = permutation_importance(female_classifier, X_female_train, y_female_train, n_repeats = 5, random_state = 0)\n",
    "y_pred_female = female_classifier.predict(X_female_test)\n",
    "print(\"X_female\", X_female_train.head())\n",
    "print_perm_importance(feature_cols,result)\n",
    "cnf_matrix = metrics.confusion_matrix(y_female_test, y_pred_female)\n",
    "plot_confusion_matrix([ \"heart_disease\" , \"no_disease\"], cnf_matrix, \"Female data set\")"
   ]
  },
  {
   "cell_type": "code",
   "execution_count": 35,
   "metadata": {},
   "outputs": [
    {
     "name": "stdout",
     "output_type": "stream",
     "text": [
      "[0.7346224370728455, 0.644274045674279, 0.6426071011835306]\n",
      "0\n",
      "['bmi', 'age', 'gender', 'systolic', 'diastolic', 'cholesterol', 'glucose', 'smoking', 'alcoholic', 'active']\n",
      "systolic                       \t\t  0.1159 \t\t  0.0013\n",
      "cholesterol                    \t\t  0.0260 \t\t  0.0008\n",
      "age                            \t\t  0.0171 \t\t  0.0009\n",
      "diastolic                      \t\t  0.0090 \t\t  0.0006\n",
      "bmi                            \t\t  0.0051 \t\t  0.0008\n",
      "active                         \t\t  0.0022 \t\t  0.0005\n",
      "glucose                        \t\t  0.0008 \t\t  0.0004\n",
      "alcoholic                      \t\t  0.0006 \t\t  0.0003\n",
      "smoking                        \t\t  0.0001 \t\t  0.0003\n",
      "gender                         \t\t -0.0004 \t\t  0.0002\n"
     ]
    },
    {
     "data": {
      "image/png": "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\n",
      "text/plain": [
       "<Figure size 432x288 with 2 Axes>"
      ]
     },
     "metadata": {
      "needs_background": "light"
     },
     "output_type": "display_data"
    }
   ],
   "source": [
    "#running classifier for male\n",
    "male_classifier = find_best_classifiers(X_male_train, X_male_test, y_male_train, y_male_test)\n",
    "result_male = permutation_importance(male_classifier, X_male_train, y_male_train, n_repeats = 5, random_state = 0)\n",
    "y_pred_male = male_classifier.predict(X_male_test)\n",
    "print_perm_importance(feature_cols,result)\n",
    "cnf_matrix = metrics.confusion_matrix(y_male_test, y_pred_male)\n",
    "plot_confusion_matrix([ \"heart_disease\" , \"no_disease\"], cnf_matrix, \"Male data set\")"
   ]
  },
  {
   "cell_type": "code",
   "execution_count": 36,
   "execution_count": null,
   "metadata": {},
   "outputs": [],
   "source": []
  },
  {
   "cell_type": "code",
   "execution_count": null,
   "metadata": {},
   "outputs": [],
   "source": []
  },

 "metadata": {
  "kernelspec": {
   "display_name": "Python 3",
   "language": "python",
   "name": "python3"
  },
  "language_info": {
   "codemirror_mode": {
    "name": "ipython",
    "version": 3
   },
   "file_extension": ".py",
   "mimetype": "text/x-python",
   "name": "python",
   "nbconvert_exporter": "python",
   "pygments_lexer": "ipython3",
   "version": "3.8.3"
  }
 },
 "nbformat": 4,
 "nbformat_minor": 4
}
